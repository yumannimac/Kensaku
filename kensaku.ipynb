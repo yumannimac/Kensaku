{
 "cells": [
  {
   "cell_type": "markdown",
   "metadata": {},
   "source": [
    "\n",
    "# 検索備忘録\n",
    "\n",
    "pythonを使ってpythonの中身あるいはターミナルコマンド（シェルコマンド）を使って実行するコードのうち検索で結構使えそうだけど忘れそうなものを書く。"
   ]
  },
  {
   "cell_type": "markdown",
   "metadata": {},
   "source": [
    "\n",
    "`introspect`を使うと`import`して`getfile`したライブラリの場所と中身を表示できる。"
   ]
  },
  {
   "cell_type": "code",
   "execution_count": null,
   "metadata": {},
   "outputs": [],
   "source": [
    "import inspect\n",
    "import numpy\n",
    "\n",
    "print(inspect.getfile(numpy))\n",
    "print(dir(numpy))\n"
   ]
  },
  {
   "cell_type": "code",
   "execution_count": 2,
   "metadata": {},
   "outputs": [
    {
     "name": "stdout",
     "output_type": "stream",
     "text": [
      "/Library/Frameworks/Python.framework/Versions/3.10/lib/python3.10/site-packages/scipy/optimize/__init__.py\n",
      "['BFGS', 'Bounds', 'HessianUpdateStrategy', 'LbfgsInvHessProduct', 'LinearConstraint', 'NonlinearConstraint', 'OptimizeResult', 'OptimizeWarning', 'RootResults', 'SR1', '__all__', '__builtins__', '__cached__', '__doc__', '__file__', '__loader__', '__name__', '__nnls', '__package__', '__path__', '__spec__', '_basinhopping', '_bglu_dense', '_cobyla', '_cobyla_py', '_constraints', '_differentiable_functions', '_differentialevolution', '_dual_annealing', '_group_columns', '_hessian_update_strategy', '_highs', '_lbfgsb', '_lbfgsb_py', '_linesearch', '_linprog', '_linprog_doc', '_linprog_highs', '_linprog_ip', '_linprog_rs', '_linprog_simplex', '_linprog_util', '_lsap', '_lsap_module', '_lsq', '_minimize', '_minpack', '_minpack2', '_minpack_py', '_moduleTNC', '_nnls', '_nonlin', '_numdiff', '_optimize', '_qap', '_remove_redundancy', '_root', '_root_scalar', '_shgo', '_shgo_lib', '_slsqp', '_slsqp_py', '_spectral', '_tnc', '_trlib', '_trustregion', '_trustregion_constr', '_trustregion_dogleg', '_trustregion_exact', '_trustregion_krylov', '_trustregion_ncg', '_zeros', '_zeros_py', 'anderson', 'approx_fprime', 'basinhopping', 'bisect', 'bracket', 'brent', 'brenth', 'brentq', 'broyden1', 'broyden2', 'brute', 'check_grad', 'cobyla', 'curve_fit', 'diagbroyden', 'differential_evolution', 'dual_annealing', 'excitingmixing', 'fixed_point', 'fmin', 'fmin_bfgs', 'fmin_cg', 'fmin_cobyla', 'fmin_l_bfgs_b', 'fmin_ncg', 'fmin_powell', 'fmin_slsqp', 'fmin_tnc', 'fminbound', 'fsolve', 'golden', 'lbfgsb', 'least_squares', 'leastsq', 'line_search', 'linear_sum_assignment', 'linearmixing', 'linesearch', 'linprog', 'linprog_verbose_callback', 'lsq_linear', 'minimize', 'minimize_scalar', 'minpack', 'minpack2', 'moduleTNC', 'newton', 'newton_krylov', 'nnls', 'nonlin', 'optimize', 'quadratic_assignment', 'ridder', 'root', 'root_scalar', 'rosen', 'rosen_der', 'rosen_hess', 'rosen_hess_prod', 'shgo', 'show_options', 'slsqp', 'test', 'tnc', 'toms748', 'zeros']\n"
     ]
    }
   ],
   "source": [
    "import inspect\n",
    "from scipy import optimize\n",
    "\n",
    "print(inspect.getfile(optimize))\n",
    "print(dir(optimize))\n"
   ]
  },
  {
   "cell_type": "code",
   "execution_count": 12,
   "metadata": {},
   "outputs": [
    {
     "name": "stdout",
     "output_type": "stream",
     "text": [
      "/Library/Frameworks/Python.framework/Versions/3.10/lib/python3.10/site-packages/numpy/__init__.py\n"
     ]
    }
   ],
   "source": [
    "import inspect\n",
    "import numpy\n",
    "\n",
    "print(inspect.getfile(numpy))"
   ]
  },
  {
   "cell_type": "markdown",
   "metadata": {},
   "source": [
    "`__path__`でも表示できる。`dir`で中身を表示。"
   ]
  },
  {
   "cell_type": "code",
   "execution_count": 7,
   "metadata": {},
   "outputs": [
    {
     "name": "stdout",
     "output_type": "stream",
     "text": [
      "['/Library/Frameworks/Python.framework/Versions/3.10/lib/python3.10/site-packages/ffmpeg']\n",
      "['Error', 'Stream', '__all__', '__builtins__', '__cached__', '__doc__', '__file__', '__loader__', '__name__', '__package__', '__path__', '__spec__', '_ffmpeg', '_filters', '_probe', '_run', '_utils', '_view', 'colorchannelmixer', 'compile', 'concat', 'crop', 'dag', 'drawbox', 'drawtext', 'filter', 'filter_', 'filter_multi_output', 'get_args', 'hflip', 'hue', 'input', 'merge_outputs', 'nodes', 'output', 'overlay', 'overwrite_output', 'probe', 'run', 'run_async', 'setpts', 'trim', 'unicode_literals', 'vflip', 'view', 'zoompan']\n"
     ]
    }
   ],
   "source": [
    "import ffmpeg\n",
    "\n",
    "print(ffmpeg.__path__)\n",
    "print(dir(ffmpeg))\n"
   ]
  },
  {
   "cell_type": "markdown",
   "metadata": {},
   "source": [
    "`sys`を使うと`sys.path`から何かのパスを表示"
   ]
  },
  {
   "cell_type": "code",
   "execution_count": 4,
   "metadata": {},
   "outputs": [
    {
     "name": "stdout",
     "output_type": "stream",
     "text": [
      "['/Users/home/Documents/VSCode用/mypython/その他', '/Users/home/Documents/VSCode用/pandoc', '/Users/home/.vscode/extensions/ms-toolsai.jupyter-2022.5.1001601848/pythonFiles', '/Users/home/.vscode/extensions/ms-toolsai.jupyter-2022.5.1001601848/pythonFiles/lib/python', '/Library/Frameworks/Python.framework/Versions/3.10/lib/python310.zip', '/Library/Frameworks/Python.framework/Versions/3.10/lib/python3.10', '/Library/Frameworks/Python.framework/Versions/3.10/lib/python3.10/lib-dynload', '', '/Library/Frameworks/Python.framework/Versions/3.10/lib/python3.10/site-packages']\n"
     ]
    }
   ],
   "source": [
    "import numpy \n",
    "import sys\n",
    "print(sys.path)\n"
   ]
  },
  {
   "cell_type": "markdown",
   "metadata": {},
   "source": [
    "ターミナルコマンド`pwd`はカレンとディレクトリを表示。"
   ]
  },
  {
   "cell_type": "code",
   "execution_count": 13,
   "metadata": {},
   "outputs": [
    {
     "name": "stdout",
     "output_type": "stream",
     "text": [
      "/Users/shimamurayuushin/Documents/VSCode用/mypython/その他\n"
     ]
    }
   ],
   "source": [
    "!pwd"
   ]
  },
  {
   "cell_type": "markdown",
   "metadata": {},
   "source": [
    "`pprint`は一行ずつ表示。地味に便利だが忘れやすい。シェルコマンドだと`ls-1`だった気がする。"
   ]
  },
  {
   "cell_type": "code",
   "execution_count": 15,
   "metadata": {},
   "outputs": [
    {
     "name": "stdout",
     "output_type": "stream",
     "text": [
      "['/Users/shimamurayuushin/Documents/VSCode用/mypython/その他',\n",
      " '/Users/shimamurayuushin/.vscode/extensions/ms-toolsai.jupyter-2022.4.1021342353/pythonFiles',\n",
      " '/Users/shimamurayuushin/.vscode/extensions/ms-toolsai.jupyter-2022.4.1021342353/pythonFiles/lib/python',\n",
      " '/Library/Frameworks/Python.framework/Versions/3.10/lib/python310.zip',\n",
      " '/Library/Frameworks/Python.framework/Versions/3.10/lib/python3.10',\n",
      " '/Library/Frameworks/Python.framework/Versions/3.10/lib/python3.10/lib-dynload',\n",
      " '',\n",
      " '/Library/Frameworks/Python.framework/Versions/3.10/lib/python3.10/site-packages']\n"
     ]
    }
   ],
   "source": [
    "import sys\n",
    "import pprint\n",
    "\n",
    "pprint.pprint(sys.path)\n"
   ]
  },
  {
   "cell_type": "markdown",
   "metadata": {},
   "source": [
    "シェルコマンドでは`pprint`は使えないらしい。"
   ]
  },
  {
   "cell_type": "code",
   "execution_count": 18,
   "metadata": {},
   "outputs": [
    {
     "name": "stdout",
     "output_type": "stream",
     "text": [
      "['zsh:1: command too long: '\n",
      " '/Library/Frameworks/Python.framework/Versions/3.10/bin:/Library/Frameworks/Python.framework/Versions/3.10/bin:/Library/Frameworks/Python.framework/Versions/3.10/bin:/Library/Frameworks/Python.framework/Versions/3.10/bin:/Library/Frameworks/Python.framework/Versions/3.10/bin:/Library/Frameworks/Python.framework/Versions/3.10/bin:/Library/Frameworks/Python.framework/Versions/3.10/bin:/Library/Frameworks/Python.framework/Versions/3.10/bin:/Library/Frameworks/Python.framework/Versions/3.10/bin:/Library/Frameworks/Python.framework/Versions/3.10/bin:/Library/Frameworks/Python.framework/Versions/3.10/bin:/Library/Frameworks/Python.framework/Versions/3.10/bin:/Library/Frameworks/Python.framework/Versions/3.10/bin:/Library/Frameworks/Python.framework/Versions/3.10/bin:/Library/Frameworks/Python.framework/Versions/3.10/bin:/Library/Frameworks/Python.framework/Versions/3.10/bin:/Library/Frameworks/Python.framework/Versions/3.10/bin:/Library/Frameworks/Python.framework/Versions/3.10/bin::/opt/homebrew/bin:/Users/shimamurayuushin/Documents/VSCode用/mybin:/Library/Frameworks/Python.framework/Versions/3.10/bin/python3:/Library/Frameworks/Python.framework/Versions/3.10/bin:/usr/local/bin:/usr/bin:/bin:/usr/sbin:/sbin:/Library/TeX/texbin:/Library/Apple/usr/bin']\n"
     ]
    }
   ],
   "source": [
    "import pprint\n",
    "a=!$PATH\n",
    "pprint.pprint(a)"
   ]
  },
  {
   "cell_type": "markdown",
   "metadata": {},
   "source": [
    "シェルコマンド続く。`ls`はカレントディレクトリの中身を表示する。オプション`-a`で隠さず表示。"
   ]
  },
  {
   "cell_type": "code",
   "execution_count": 37,
   "metadata": {},
   "outputs": [
    {
     "name": "stdout",
     "output_type": "stream",
     "text": [
      "\u001b[31m20210607_画像の表現と分析_ipynb_のコピー.ipynb\u001b[m\u001b[m\n",
      "a.ipynb\n",
      "a.tex\n",
      "kensaku.ipynb\n",
      "\u001b[34mllifescience_5\u001b[m\u001b[m\n",
      "md.html\n",
      "md.ipynb\n",
      "p.md\n",
      "try.html\n",
      "try.ipynb\n",
      "try.pdf\n",
      "tryのコピー.html\n",
      "あ\n",
      "お気に入りのやつ.html\n",
      "お気に入りのやつ.ipynb\n",
      "回帰分析.ipynb\n"
     ]
    }
   ],
   "source": [
    "!ls "
   ]
  },
  {
   "cell_type": "markdown",
   "metadata": {},
   "source": [
    "macの設定"
   ]
  },
  {
   "cell_type": "code",
   "execution_count": 3,
   "metadata": {},
   "outputs": [
    {
     "name": "stdout",
     "output_type": "stream",
     "text": [
      "ProductName:\tmacOS\n",
      "ProductVersion:\t12.4\n",
      "BuildVersion:\t21F79\n"
     ]
    }
   ],
   "source": [
    "!sw_vers"
   ]
  },
  {
   "cell_type": "markdown",
   "metadata": {},
   "source": [
    "以下がこのjupyterの実行環境"
   ]
  },
  {
   "cell_type": "code",
   "execution_count": 4,
   "metadata": {},
   "outputs": [
    {
     "data": {
      "text/plain": [
       "'/Library/Frameworks/Python.framework/Versions/3.10/bin/python3.10'"
      ]
     },
     "execution_count": 4,
     "metadata": {},
     "output_type": "execute_result"
    }
   ],
   "source": [
    "import sys\n",
    "\n",
    "\n",
    "sys.executable\n"
   ]
  },
  {
   "cell_type": "markdown",
   "metadata": {},
   "source": [
    "使用可能なkernelのリスト"
   ]
  },
  {
   "cell_type": "code",
   "execution_count": 8,
   "metadata": {},
   "outputs": [
    {
     "name": "stdout",
     "output_type": "stream",
     "text": [
      "Available kernels:\n",
      "  python3105jvsc74a57bd0aee8b7b246df8f9039afb4144a1f6fd8d2ca17a180786b69acc140d282b71a49    /Users/home/.vscode/extensions/ms-toolsai.jupyter-2022.5.1001601848/temp/jupyter/kernels/python3105jvsc74a57bd0aee8b7b246df8f9039afb4144a1f6fd8d2ca17a180786b69acc140d282b71a49\n",
      "  python3                                                                                   /Library/Frameworks/Python.framework/Versions/3.10/share/jupyter/kernels/python3\n"
     ]
    }
   ],
   "source": [
    "!/Library/Frameworks/Python.framework/Versions/3.10/bin/jupyter kernelspec list\n"
   ]
  }
 ],
 "metadata": {
  "kernelspec": {
   "display_name": "Python 3.10.5 64-bit",
   "language": "python",
   "name": "python3"
  },
  "language_info": {
   "codemirror_mode": {
    "name": "ipython",
    "version": 3
   },
   "file_extension": ".py",
   "mimetype": "text/x-python",
   "name": "python",
   "nbconvert_exporter": "python",
   "pygments_lexer": "ipython3",
   "version": "3.10.5"
  },
  "orig_nbformat": 4,
  "vscode": {
   "interpreter": {
    "hash": "aee8b7b246df8f9039afb4144a1f6fd8d2ca17a180786b69acc140d282b71a49"
   }
  }
 },
 "nbformat": 4,
 "nbformat_minor": 2
}
